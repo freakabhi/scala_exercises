{
 "cells": [
  {
   "cell_type": "markdown",
   "metadata": {},
   "source": [
    "**Arrays**\n",
    "\n",
    "Arrays preserve order, can contain duplicates, and are mutable."
   ]
  },
  {
   "cell_type": "code",
   "execution_count": 1,
   "metadata": {
    "collapsed": true
   },
   "outputs": [
    {
     "data": {
      "text/plain": [
       "\u001b[36mnums\u001b[0m: \u001b[32mArray\u001b[0m[\u001b[32mInt\u001b[0m] = \u001b[33mArray\u001b[0m(\n",
       "  \u001b[32m0\u001b[0m,\n",
       "  \u001b[32m0\u001b[0m,\n",
       "  \u001b[32m0\u001b[0m,\n",
       "  \u001b[32m0\u001b[0m,\n",
       "  \u001b[32m0\u001b[0m,\n",
       "  \u001b[32m0\u001b[0m,\n",
       "  \u001b[32m0\u001b[0m,\n",
       "  \u001b[32m0\u001b[0m,\n",
       "  \u001b[32m0\u001b[0m,\n",
       "  \u001b[32m0\u001b[0m\n",
       ")\n",
       "\u001b[36ma\u001b[0m: \u001b[32mArray\u001b[0m[\u001b[32mString\u001b[0m] = \u001b[33mArray\u001b[0m(null, null, null, null, null, null, null, null, null, null)\n",
       "\u001b[36ms\u001b[0m: \u001b[32mArray\u001b[0m[\u001b[32mString\u001b[0m] = \u001b[33mArray\u001b[0m(\u001b[32m\"Goodbye\"\u001b[0m, \u001b[32m\"World\"\u001b[0m)"
      ]
     },
     "metadata": {},
     "output_type": "display_data"
    }
   ],
   "source": [
    "val nums = new Array[Int](10)\n",
    "// An array of ten integers, all initialized with zero\n",
    "val a = new Array[String](10)\n",
    "// A string array with ten elements, all initialized with null\n",
    "val s = Array(\"Hello\", \"World\")\n",
    "// An Array[String] of length 2—the type is inferred\n",
    "// Note: No new when you supply initial values\n",
    "s(0) = \"Goodbye\"\n",
    "// Array(\"Goodbye\", \"World\")\n",
    "// Use () instead of [] to access elements"
   ]
  },
  {
   "cell_type": "code",
   "execution_count": 5,
   "metadata": {
    "collapsed": true
   },
   "outputs": [
    {
     "data": {
      "text/plain": [
       "\u001b[36mv1\u001b[0m: \u001b[32mArray\u001b[0m[\u001b[32mString\u001b[0m] = \u001b[33mArray\u001b[0m(\u001b[32m\"Abhi\"\u001b[0m, \u001b[32m\"rajput\"\u001b[0m)\n",
       "\u001b[36mres4_1\u001b[0m: \u001b[32mString\u001b[0m = \u001b[32m\"Abhi\"\u001b[0m"
      ]
     },
     "metadata": {},
     "output_type": "display_data"
    }
   ],
   "source": [
    "val v1 = Array(\"Abhi\",\"rajput\")\n",
    "v1(0)"
   ]
  },
  {
   "cell_type": "code",
   "execution_count": 20,
   "metadata": {
    "collapsed": false
   },
   "outputs": [
    {
     "name": "stdout",
     "output_type": "stream",
     "text": [
      "(1, - ,0)(1, - ,1)(7, - ,2)(8, - ,3)(2, - ,4)(3, - ,5)"
     ]
    },
    {
     "data": {
      "text/plain": [
       "\u001b[32mimport \u001b[36mscala.collection.mutable.ArrayBuffer\u001b[0m\n",
       "\u001b[36mb\u001b[0m: \u001b[32mArrayBuffer\u001b[0m[\u001b[32mInt\u001b[0m] = \u001b[33mArrayBuffer\u001b[0m(\u001b[32m1\u001b[0m, \u001b[32m1\u001b[0m, \u001b[32m7\u001b[0m, \u001b[32m8\u001b[0m, \u001b[32m2\u001b[0m, \u001b[32m3\u001b[0m)\n",
       "\u001b[36mres19_2\u001b[0m: \u001b[32mArrayBuffer\u001b[0m[\u001b[32mInt\u001b[0m] = \u001b[33mArrayBuffer\u001b[0m(\u001b[32m1\u001b[0m, \u001b[32m1\u001b[0m, \u001b[32m7\u001b[0m, \u001b[32m8\u001b[0m, \u001b[32m2\u001b[0m, \u001b[32m3\u001b[0m)\n",
       "\u001b[36mres19_3\u001b[0m: \u001b[32mArrayBuffer\u001b[0m[\u001b[32mInt\u001b[0m] = \u001b[33mArrayBuffer\u001b[0m(\u001b[32m1\u001b[0m, \u001b[32m1\u001b[0m, \u001b[32m7\u001b[0m, \u001b[32m8\u001b[0m, \u001b[32m2\u001b[0m, \u001b[32m3\u001b[0m)\n",
       "\u001b[36mres19_4\u001b[0m: \u001b[32mArrayBuffer\u001b[0m[\u001b[32mInt\u001b[0m] = \u001b[33mArrayBuffer\u001b[0m(\u001b[32m1\u001b[0m, \u001b[32m1\u001b[0m, \u001b[32m7\u001b[0m, \u001b[32m8\u001b[0m, \u001b[32m2\u001b[0m, \u001b[32m3\u001b[0m)\n",
       "\u001b[36mres19_8\u001b[0m: \u001b[32mInt\u001b[0m = \u001b[32m4\u001b[0m"
      ]
     },
     "metadata": {},
     "output_type": "display_data"
    }
   ],
   "source": [
    "import scala.collection.mutable.ArrayBuffer\n",
    "val b = ArrayBuffer[Int]()\n",
    "b += 1\n",
    "b += (1,2,3,4)\n",
    "b ++= Array(8,3)\n",
    "b.trimEnd(3)\n",
    "b.insert(2,8)\n",
    "b.insert(2,4,5,6,7)\n",
    "b.remove(2)\n",
    "b.remove(2,2)\n",
    "\n",
    "for ( i <- 0 until b.length)\n",
    "print(b(i),\" - \", i)"
   ]
  },
  {
   "cell_type": "code",
   "execution_count": 4,
   "metadata": {
    "collapsed": false
   },
   "outputs": [
    {
     "data": {
      "text/plain": [
       "\u001b[36mnumbers\u001b[0m: \u001b[32mArray\u001b[0m[\u001b[32mInt\u001b[0m] = \u001b[33mArray\u001b[0m(\u001b[32m1\u001b[0m, \u001b[32m2\u001b[0m, \u001b[32m8\u001b[0m, \u001b[32m5\u001b[0m, \u001b[32m6\u001b[0m, \u001b[32m78\u001b[0m, \u001b[32m8\u001b[0m)\n",
       "\u001b[36mres3_1\u001b[0m: \u001b[32mInt\u001b[0m = \u001b[32m3\u001b[0m"
      ]
     },
     "metadata": {},
     "output_type": "display_data"
    }
   ],
   "source": [
    "val numbers = Array(1,2,3,5,6,78,8)\n",
    "numbers(2)\n",
    "numbers(2) = 8"
   ]
  },
  {
   "cell_type": "markdown",
   "metadata": {},
   "source": [
    "**Lists**\n",
    "\n",
    "Lists preserve order, can contain duplicates, and are immutable"
   ]
  },
  {
   "cell_type": "code",
   "execution_count": 8,
   "metadata": {
    "collapsed": true
   },
   "outputs": [
    {
     "name": "stdout",
     "output_type": "stream",
     "text": [
      "1\n",
      "2\n",
      "3\n",
      "4\n",
      "5\n",
      "6\n",
      "7\n"
     ]
    },
    {
     "data": {
      "text/plain": [
       "\u001b[36mnum_list\u001b[0m: \u001b[32mList\u001b[0m[\u001b[32mInt\u001b[0m] = \u001b[33mList\u001b[0m(\u001b[32m1\u001b[0m, \u001b[32m2\u001b[0m, \u001b[32m3\u001b[0m, \u001b[32m4\u001b[0m, \u001b[32m5\u001b[0m, \u001b[32m6\u001b[0m, \u001b[32m7\u001b[0m)"
      ]
     },
     "metadata": {},
     "output_type": "display_data"
    }
   ],
   "source": [
    "val num_list = List(1,2,3,4,5,6,7)\n",
    "\n",
    "num_list.foreach(println)"
   ]
  },
  {
   "cell_type": "markdown",
   "metadata": {},
   "source": [
    "**Sets**\n",
    "\n",
    "Sets do not preserve order and have no duplicates"
   ]
  },
  {
   "cell_type": "code",
   "execution_count": 9,
   "metadata": {
    "collapsed": false
   },
   "outputs": [
    {
     "data": {
      "text/plain": [
       "\u001b[36mnumbers\u001b[0m: \u001b[32mSet\u001b[0m[\u001b[32mInt\u001b[0m] = \u001b[33mSet\u001b[0m(\u001b[32m5\u001b[0m, \u001b[32m1\u001b[0m, \u001b[32m2\u001b[0m, \u001b[32m3\u001b[0m, \u001b[32m4\u001b[0m)"
      ]
     },
     "metadata": {},
     "output_type": "display_data"
    }
   ],
   "source": [
    "val numbers = Set(1, 2, 3, 4, 5, 1, 2, 3, 4, 5)"
   ]
  },
  {
   "cell_type": "markdown",
   "metadata": {},
   "source": [
    "**Tuple**\n",
    "\n",
    "A tuple groups together simple logical collections of items without using a class.\n",
    "Unlike case classes, they don’t have named accessors, instead they have accessors that are named by their position and is 1-based rather than 0-based.\n"
   ]
  },
  {
   "cell_type": "code",
   "execution_count": 16,
   "metadata": {
    "collapsed": false,
    "scrolled": true
   },
   "outputs": [
    {
     "data": {
      "text/plain": [
       "\u001b[36mhostPort\u001b[0m: (\u001b[32mString\u001b[0m, \u001b[32mInt\u001b[0m) = \u001b[33m\u001b[0m(\u001b[32m\"localhost\"\u001b[0m, \u001b[32m80\u001b[0m)\n",
       "\u001b[36mres13_1\u001b[0m: \u001b[32mString\u001b[0m = \u001b[32m\"localhost\"\u001b[0m\n",
       "\u001b[36mres13_2\u001b[0m: \u001b[32mInt\u001b[0m = \u001b[32m80\u001b[0m\n",
       "\u001b[36mres13_3\u001b[0m: (\u001b[32mInt\u001b[0m, \u001b[32mInt\u001b[0m) = \u001b[33m\u001b[0m(\u001b[32m1\u001b[0m, \u001b[32m2\u001b[0m)\n",
       "\u001b[36mres13_4\u001b[0m: (\u001b[32mString\u001b[0m, \u001b[32mString\u001b[0m) = \u001b[33m\u001b[0m(\u001b[32m\"city\"\u001b[0m, \u001b[32m\"State\"\u001b[0m)\n",
       "\u001b[36mres13_5\u001b[0m: (\u001b[32mString\u001b[0m, \u001b[32mArray\u001b[0m[\u001b[32mInt\u001b[0m]) = \u001b[33m\u001b[0m(\u001b[32m\"city\"\u001b[0m, \u001b[33mArray\u001b[0m(\u001b[32m1\u001b[0m, \u001b[32m2\u001b[0m, \u001b[32m3\u001b[0m))"
      ]
     },
     "metadata": {},
     "output_type": "display_data"
    }
   ],
   "source": [
    "val hostPort = (\"localhost\", 80)\n",
    "hostPort._1 \n",
    "hostPort._2\n",
    "1 -> 2\n",
    "\"city\" -> \"State\"\n",
    "\"city\" -> Array(1,2,3)"
   ]
  },
  {
   "cell_type": "markdown",
   "metadata": {},
   "source": [
    "**Maps**\n",
    "\n",
    "It can hold basic datatypes."
   ]
  },
  {
   "cell_type": "code",
   "execution_count": 2,
   "metadata": {
    "collapsed": false
   },
   "outputs": [
    {
     "ename": "",
     "evalue": "",
     "output_type": "error",
     "traceback": [
      "Compilation Failed",
      "\u001b[31mMain.scala:63: missing parameter type for expanded function ((x$1) => <timesTwo: error>(x$1))\r",
      "Map(\"timesTwo\" -> { timesTwo(_) })\r",
      "                             ^\u001b[0m",
      "\u001b[31mMain.scala:29: could not find implicit value for evidence parameter of type ammonite.pprint.TPrint[scala.collection.immutable.Map[String,<error> => <error>]]\r",
      "              def $main() = {val $user: cmd1.INSTANCE.$user.type = cmd1.INSTANCE.$user; ReplBridge.shell.Internal.combinePrints(ReplBridge.shell.Internal.print($user.res1_0, \"res1_0\", _root_.scala.None), ReplBridge.shell.Internal.print($user.res1_1, \"res1_1\", _root_.scala.None), ReplBridge.shell.Internal.print($user.res1_2, \"res1_2\", _root_.scala.None), ReplBridge.shell.Internal.print($user.res1_3, \"res1_3\", _root_.scala.None))}\r",
      "                                                                                                                                                                                                                                                                                                                                                                                                   ^\u001b[0m"
     ]
    }
   ],
   "source": [
    "Map(\"foo\" -> \"bar\")\n",
    "Map(1 -> 2)\n",
    "Map(1 -> Map(\"foo\" -> \"bar\"))\n",
    "Map(\"timesTwo\" -> { timesTwo(_) })"
   ]
  },
  {
   "cell_type": "markdown",
   "metadata": {},
   "source": [
    "**Option**\n",
    "\n",
    "Option is a container that may or may not hold something.\n",
    "\n",
    "The basic interface for Option looks like:"
   ]
  },
  {
   "cell_type": "code",
   "execution_count": null,
   "metadata": {
    "collapsed": true
   },
   "outputs": [],
   "source": []
  },
  {
   "cell_type": "code",
   "execution_count": 21,
   "metadata": {
    "collapsed": false
   },
   "outputs": [
    {
     "data": {
      "text/plain": [
       "defined \u001b[32mtrait \u001b[36mOption\u001b[0m"
      ]
     },
     "metadata": {},
     "output_type": "display_data"
    }
   ],
   "source": [
    "trait Option[T] {\n",
    "  def isDefined: Boolean\n",
    "  def get: T\n",
    "  def getOrElse(t: T): T\n",
    "}"
   ]
  },
  {
   "cell_type": "code",
   "execution_count": 31,
   "metadata": {
    "collapsed": false
   },
   "outputs": [
    {
     "data": {
      "text/plain": [
       "\u001b[36mnumbers\u001b[0m: \u001b[32mList\u001b[0m[\u001b[32mInt\u001b[0m] = \u001b[33mList\u001b[0m(\u001b[32m1\u001b[0m, \u001b[32m2\u001b[0m, \u001b[32m3\u001b[0m, \u001b[32m4\u001b[0m)\n",
       "\u001b[36mres26_1\u001b[0m: \u001b[32mList\u001b[0m[\u001b[32mInt\u001b[0m] = \u001b[33mList\u001b[0m(\u001b[32m2\u001b[0m, \u001b[32m4\u001b[0m, \u001b[32m6\u001b[0m, \u001b[32m8\u001b[0m)\n",
       "defined \u001b[32mfunction \u001b[36mtimes_two\u001b[0m\n",
       "\u001b[36mres26_3\u001b[0m: \u001b[32mList\u001b[0m[\u001b[32mInt\u001b[0m] = \u001b[33mList\u001b[0m(\u001b[32m2\u001b[0m, \u001b[32m4\u001b[0m, \u001b[32m6\u001b[0m, \u001b[32m8\u001b[0m)"
      ]
     },
     "metadata": {},
     "output_type": "display_data"
    }
   ],
   "source": [
    "val numbers = List(1, 2, 3, 4)\n",
    "numbers.map((i:Int) => i * 2)\n",
    "\n",
    "def times_two(i:Int):Int = { i*2 }\n",
    "numbers.map(times_two)\n",
    "\n",
    "numbers.foreach(i => i*2 )\n",
    "val doubled = numbers.foreach((i: Int) => i * 2)"
   ]
  },
  {
   "cell_type": "code",
   "execution_count": 36,
   "metadata": {
    "collapsed": false
   },
   "outputs": [
    {
     "data": {
      "text/plain": [
       "\u001b[36mres30_0\u001b[0m: \u001b[32mList\u001b[0m[\u001b[32mInt\u001b[0m] = \u001b[33mList\u001b[0m(\u001b[32m2\u001b[0m, \u001b[32m4\u001b[0m)\n",
       "defined \u001b[32mfunction \u001b[36mis_Even\u001b[0m\n",
       "\u001b[36mres30_2\u001b[0m: \u001b[32mList\u001b[0m[\u001b[32mInt\u001b[0m] = \u001b[33mList\u001b[0m(\u001b[32m2\u001b[0m, \u001b[32m4\u001b[0m)"
      ]
     },
     "metadata": {},
     "output_type": "display_data"
    }
   ],
   "source": [
    "numbers.filter(i => i%2 == 0)\n",
    "def is_Even(i:Int):Boolean = ( i % 2 == 0 )\n",
    "numbers.filter(is_Even)"
   ]
  },
  {
   "cell_type": "code",
   "execution_count": 38,
   "metadata": {
    "collapsed": false
   },
   "outputs": [
    {
     "data": {
      "text/plain": [
       "\u001b[36mres32\u001b[0m: \u001b[32mList\u001b[0m[((\u001b[32mInt\u001b[0m, \u001b[32mString\u001b[0m), \u001b[32mInt\u001b[0m)] = \u001b[33mList\u001b[0m(\n",
       "  \u001b[33m\u001b[0m(\u001b[33m\u001b[0m(\u001b[32m1\u001b[0m, \u001b[32m\"a\"\u001b[0m), \u001b[32m5\u001b[0m),\n",
       "  \u001b[33m\u001b[0m(\u001b[33m\u001b[0m(\u001b[32m2\u001b[0m, \u001b[32m\"b\"\u001b[0m), \u001b[32m6\u001b[0m),\n",
       "  \u001b[33m\u001b[0m(\u001b[33m\u001b[0m(\u001b[32m3\u001b[0m, \u001b[32m\"c\"\u001b[0m), \u001b[32m7\u001b[0m)\n",
       ")"
      ]
     },
     "metadata": {},
     "output_type": "display_data"
    }
   ],
   "source": [
    "List(1,2,3).zip(List(\"a\",\"b\",\"c\")).zip(List(5,6,7))"
   ]
  },
  {
   "cell_type": "code",
   "execution_count": 43,
   "metadata": {
    "collapsed": true
   },
   "outputs": [
    {
     "data": {
      "text/plain": [
       "\u001b[36mnumbers\u001b[0m: \u001b[32mList\u001b[0m[\u001b[32mInt\u001b[0m] = \u001b[33mList\u001b[0m(\n",
       "  \u001b[32m1\u001b[0m,\n",
       "  \u001b[32m2\u001b[0m,\n",
       "  \u001b[32m3\u001b[0m,\n",
       "  \u001b[32m4\u001b[0m,\n",
       "  \u001b[32m5\u001b[0m,\n",
       "  \u001b[32m6\u001b[0m,\n",
       "  \u001b[32m7\u001b[0m,\n",
       "  \u001b[32m8\u001b[0m,\n",
       "  \u001b[32m9\u001b[0m,\n",
       "  \u001b[32m10\u001b[0m\n",
       ")\n",
       "\u001b[36mres37_1\u001b[0m: \u001b[32mscala\u001b[0m.\u001b[32mOption\u001b[0m[\u001b[32mInt\u001b[0m] = Some(6)\n",
       "\u001b[36mres37_2\u001b[0m: (\u001b[32mList\u001b[0m[\u001b[32mInt\u001b[0m], \u001b[32mList\u001b[0m[\u001b[32mInt\u001b[0m]) = \u001b[33m\u001b[0m(\n",
       "  \u001b[33mList\u001b[0m(\u001b[32m3\u001b[0m, \u001b[32m6\u001b[0m, \u001b[32m9\u001b[0m),\n",
       "  \u001b[33mList\u001b[0m(\u001b[32m1\u001b[0m, \u001b[32m2\u001b[0m, \u001b[32m4\u001b[0m, \u001b[32m5\u001b[0m, \u001b[32m7\u001b[0m, \u001b[32m8\u001b[0m, \u001b[32m10\u001b[0m)\n",
       ")"
      ]
     },
     "metadata": {},
     "output_type": "display_data"
    }
   ],
   "source": [
    "val numbers = List(1, 2, 3, 4, 5, 6, 7, 8, 9, 10)\n",
    "numbers.find(i => i > 5)\n",
    "numbers.partition(_ % 3 == 0)\n"
   ]
  },
  {
   "cell_type": "code",
   "execution_count": null,
   "metadata": {
    "collapsed": true
   },
   "outputs": [],
   "source": [
    "val numbers = List(1, 2, 3, 4, 5, 6, 7, 8, 9, 10)\n",
    "\n"
   ]
  }
 ],
 "metadata": {
  "kernelspec": {
   "display_name": "Scala 2.11",
   "language": "scala211",
   "name": "scala211"
  },
  "language_info": {
   "codemirror_mode": "text/x-scala",
   "file_extension": ".scala",
   "mimetype": "text/x-scala",
   "name": "scala211",
   "pygments_lexer": "scala",
   "version": "2.11.6"
  }
 },
 "nbformat": 4,
 "nbformat_minor": 1
}
