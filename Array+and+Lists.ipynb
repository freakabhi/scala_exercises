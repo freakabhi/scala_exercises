{
 "cells": [
  {
   "cell_type": "markdown",
   "metadata": {},
   "source": [
    "**MAP**\n",
    "\n",
    "You can construct a map"
   ]
  },
  {
   "cell_type": "code",
   "execution_count": 14,
   "metadata": {
    "collapsed": false,
    "scrolled": true
   },
   "outputs": [
    {
     "ename": "",
     "evalue": "",
     "output_type": "error",
     "traceback": [
      "Compilation Failed",
      "\u001b[31mMain.scala:64: value update is not a member of scala.collection.immutable.Map[String,Int]\r",
      "scores(\"Alice\") = 20\r",
      "^\u001b[0m"
     ]
    }
   ],
   "source": [
    "val scores = Map(\"Alice\" -> 10, \"Bob\" -> 3, \"Cindy\" -> 8)  \n",
    "scores(\"Alice\")\n",
    "//scores(\"Alice\") = 20"
   ]
  },
  {
   "cell_type": "code",
   "execution_count": 13,
   "metadata": {
    "collapsed": false
   },
   "outputs": [
    {
     "data": {
      "text/plain": [
       "\u001b[36mscores\u001b[0m: \u001b[32mcollection\u001b[0m.\u001b[32mmutable\u001b[0m.\u001b[32mMap\u001b[0m[\u001b[32mString\u001b[0m, \u001b[32mInt\u001b[0m] = \u001b[33mMap\u001b[0m(\u001b[32m\"Bob\"\u001b[0m -> \u001b[32m3\u001b[0m, \u001b[32m\"Alice\"\u001b[0m -> \u001b[32m10\u001b[0m, \u001b[32m\"Cindy\"\u001b[0m -> \u001b[32m8\u001b[0m)\n",
       "\u001b[36mscores1\u001b[0m: \u001b[32mcollection\u001b[0m.\u001b[32mmutable\u001b[0m.\u001b[32mMap\u001b[0m[\u001b[32mString\u001b[0m, \u001b[32mInt\u001b[0m] = \u001b[33mMap\u001b[0m(\u001b[32m\"new\"\u001b[0m -> \u001b[32m10\u001b[0m)"
      ]
     },
     "metadata": {},
     "output_type": "display_data"
    }
   ],
   "source": [
    "val scores = scala.collection.mutable.Map(\"Alice\" -> 10, \"Bob\" -> 3, \"Cindy\" -> 8)\n",
    "val scores1 = scala.collection.mutable.Map(\"new\" -> 10)"
   ]
  },
  {
   "cell_type": "code",
   "execution_count": 4,
   "metadata": {
    "collapsed": false
   },
   "outputs": [
    {
     "ename": "",
     "evalue": "",
     "output_type": "error",
     "traceback": [
      "Compilation Failed",
      "\u001b[31mMain.scala:52: object ImMutable is not a member of package collection\r",
      "scala.collection.ImMutable.Map(\"Alice\" -> 10, \"Bob\" -> 3, \"Cindy\" -> 8) \r",
      "                 ^\u001b[0m"
     ]
    }
   ],
   "source": []
  }
 ],
 "metadata": {
  "kernelspec": {
   "display_name": "Scala 2.11",
   "language": "scala211",
   "name": "scala211"
  },
  "language_info": {
   "codemirror_mode": "text/x-scala",
   "file_extension": ".scala",
   "mimetype": "text/x-scala",
   "name": "scala211",
   "pygments_lexer": "scala",
   "version": "2.11.6"
  }
 },
 "nbformat": 4,
 "nbformat_minor": 1
}
