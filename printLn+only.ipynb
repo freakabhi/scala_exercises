{
 "cells": [
  {
   "cell_type": "code",
   "execution_count": 24,
   "metadata": {
    "collapsed": false
   },
   "outputs": [
    {
     "name": "stdout",
     "output_type": "stream",
     "text": [
      "Iteration 5 took 0 miSystem.nanoTime lliseconds\n"
     ]
    },
    {
     "data": {
      "text/plain": [
       "\u001b[36mi\u001b[0m: \u001b[32mInt\u001b[0m = \u001b[32m5\u001b[0m\n",
       "\u001b[36mstartTime\u001b[0m: \u001b[32mLong\u001b[0m = \u001b[32m428148300600618\u001b[0mL"
      ]
     },
     "metadata": {},
     "output_type": "display_data"
    }
   ],
   "source": [
    "var i = 5\n",
    "var startTime = System.nanoTime\n",
    "println(\"Iteration %d took %.0f miSystem.nanoTime lliseconds\".format(i, (System.nanoTime - startTime) / 1E6))"
   ]
  },
  {
   "cell_type": "code",
   "execution_count": null,
   "metadata": {
    "collapsed": false
   },
   "outputs": [],
   "source": []
  },
  {
   "cell_type": "code",
   "execution_count": 25,
   "metadata": {
    "collapsed": false
   },
   "outputs": [
    {
     "name": "stdout",
     "output_type": "stream",
     "text": [
      "Iteration 2.500000 took\n",
      "iteration took 2.5 \n",
      "counter + 1 is 6\n"
     ]
    },
    {
     "data": {
      "text/plain": []
     },
     "metadata": {},
     "output_type": "display_data"
    }
   ],
   "source": [
    "println(\"Iteration %f took\".format(d))\n",
    "println(s\"iteration took $d \")\n",
    "println(s\"counter + 1 is ${i + 1}\")"
   ]
  },
  {
   "cell_type": "code",
   "execution_count": 20,
   "metadata": {
    "collapsed": false
   },
   "outputs": [
    {
     "name": "stdout",
     "output_type": "stream",
     "text": [
      "Hannah has a score of 95\n"
     ]
    },
    {
     "data": {
      "text/plain": [
       "defined \u001b[32mclass \u001b[36mStudent\u001b[0m\n",
       "\u001b[36mhannah\u001b[0m: \u001b[32m$user\u001b[0m.\u001b[32mStudent\u001b[0m = \u001b[33mStudent\u001b[0m(\u001b[32m\"Hannah\"\u001b[0m, \u001b[32m95\u001b[0m)"
      ]
     },
     "metadata": {},
     "output_type": "display_data"
    }
   ],
   "source": [
    "case class Student(name: String, score: Int)\n",
    "val hannah = Student(\"Hannah\", 95)\n",
    "println(s\"${hannah.name} has a score of ${hannah.score}\")"
   ]
  },
  {
   "cell_type": "code",
   "execution_count": 30,
   "metadata": {
    "collapsed": false
   },
   "outputs": [
    {
     "data": {
      "text/plain": [
       "\u001b[32mimport \u001b[36mjava.text.SimpleDateFormat\u001b[0m\n",
       "\u001b[32mimport \u001b[36mjava.util.Calendar\u001b[0m\n",
       "\u001b[36mtoday\u001b[0m: \u001b[32mjava\u001b[0m.\u001b[32mutil\u001b[0m.\u001b[32mDate\u001b[0m = Wed Sep 20 17:23:12 PDT 2017\n",
       "\u001b[36mminuteFormat\u001b[0m: \u001b[32mSimpleDateFormat\u001b[0m = java.text.SimpleDateFormat@da0\n",
       "\u001b[36mhourFormat\u001b[0m: \u001b[32mSimpleDateFormat\u001b[0m = java.text.SimpleDateFormat@d00\n",
       "\u001b[36mamPmFormat\u001b[0m: \u001b[32mSimpleDateFormat\u001b[0m = java.text.SimpleDateFormat@61"
      ]
     },
     "metadata": {},
     "output_type": "display_data"
    }
   ],
   "source": [
    "import java.text.SimpleDateFormat\n",
    "import java.util.Calendar\n",
    "\n",
    "val today = Calendar.getInstance.getTime\n",
    "// create the date/time formatters\n",
    "val minuteFormat = new SimpleDateFormat(\"mm\")\n",
    "val hourFormat = new SimpleDateFormat(\"hh\")\n",
    "val amPmFormat = new SimpleDateFormat(\"a\")\n"
   ]
  },
  {
   "cell_type": "code",
   "execution_count": 27,
   "metadata": {
    "collapsed": false
   },
   "outputs": [
    {
     "name": "stdout",
     "output_type": "stream",
     "text": [
      "weight of person is 2.60 and height is 20"
     ]
    },
    {
     "data": {
      "text/plain": [
       "\u001b[36mdbl\u001b[0m: \u001b[32mDouble\u001b[0m = \u001b[32m2.6\u001b[0m\n",
       "\u001b[36mint1\u001b[0m: \u001b[32mInt\u001b[0m = \u001b[32m20\u001b[0m"
      ]
     },
     "metadata": {},
     "output_type": "display_data"
    }
   ],
   "source": [
    "var dbl = 2.6\n",
    "var int1 = 20\n",
    "print(f\"weight of person is $dbl%.2f and height is $int1\")"
   ]
  },
  {
   "cell_type": "code",
   "execution_count": 10,
   "metadata": {
    "collapsed": false
   },
   "outputs": [
    {
     "name": "stdout",
     "output_type": "stream",
     "text": [
      "List(1, 2, 3)\n",
      "[I@305a3e11\n",
      "Map(abc -> 123, bcd -> 234)\n"
     ]
    },
    {
     "data": {
      "text/plain": [
       "\u001b[36mlist\u001b[0m: \u001b[32mList\u001b[0m[\u001b[32mInt\u001b[0m] = \u001b[33mList\u001b[0m(\u001b[32m1\u001b[0m, \u001b[32m2\u001b[0m, \u001b[32m3\u001b[0m)\n",
       "\u001b[36marray_list\u001b[0m: \u001b[32mArray\u001b[0m[\u001b[32mInt\u001b[0m] = \u001b[33mArray\u001b[0m(\u001b[32m1\u001b[0m, \u001b[32m2\u001b[0m, \u001b[32m3\u001b[0m, \u001b[32m4\u001b[0m)\n",
       "\u001b[36mmap_a\u001b[0m: \u001b[32mMap\u001b[0m[\u001b[32mString\u001b[0m, \u001b[32mInt\u001b[0m] = \u001b[33mMap\u001b[0m(\u001b[32m\"abc\"\u001b[0m -> \u001b[32m123\u001b[0m, \u001b[32m\"bcd\"\u001b[0m -> \u001b[32m234\u001b[0m)"
      ]
     },
     "metadata": {},
     "output_type": "display_data"
    }
   ],
   "source": [
    "val list = List(1, 2, 3)\n",
    "println(list)\n",
    "\n",
    "val array_list = Array(1,2,3,4)\n",
    "println(array_list)\n",
    "\n",
    "val map_a = Map(\"abc\" -> 123,\"bcd\" -> 234)\n",
    "println(map_a)"
   ]
  }
 ],
 "metadata": {
  "anaconda-cloud": {},
  "kernelspec": {
   "display_name": "Scala 2.11",
   "language": "scala211",
   "name": "scala211"
  },
  "language_info": {
   "codemirror_mode": "text/x-scala",
   "file_extension": ".scala",
   "mimetype": "text/x-scala",
   "name": "scala211",
   "pygments_lexer": "scala",
   "version": "2.11.6"
  }
 },
 "nbformat": 4,
 "nbformat_minor": 1
}
