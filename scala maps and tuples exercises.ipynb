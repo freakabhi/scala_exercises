{
 "cells": [
  {
   "cell_type": "markdown",
   "metadata": {},
   "source": [
    "**Exercises**\n",
    "\n",
    "1. Set up a map of prices for a number of gizmos that you covet. Then produce\n",
    "a second map with the same keys and the prices at a 10 percent discount.\n",
    "2. Write a program that reads words from a file. Use a mutable map to count\n",
    "how often each word appears. To read the words, simply use a java.util.Scanner:\n",
    "val in = new java.util.Scanner(java.io.File(\"myfile.txt\"))\n",
    "while (in.hasNext()) process in.next()\n",
    "Or look at Chapter 9 for a Scalaesque way.\n",
    "At the end, print out all words and their counts.\n",
    "3. Repeat the preceding exercise with an immutable map.\n",
    "4. Repeat the preceding exercise with a sorted map, so that the words are\n",
    "printed in sorted order.\n",
    "48 Chapter 4 Maps and Tuples\n",
    "5. Repeat the preceding exercise with a java.util.TreeMap that you adapt to the\n",
    "Scala API.\n",
    "6. Define a linked hash map that maps \"Monday\" to java.util.Calendar.MONDAY, and\n",
    "similarly for the other weekdays. Demonstrate that the elements are visited\n",
    "in insertion order.\n",
    "7. Print a table of all Java properties, like this:\n",
    "java.runtime.name | Java(TM) SE Runtime Environment\n",
    "sun.boot.library.path | /home/apps/jdk1.6.0_21/jre/lib/i386\n",
    "java.vm.version | 17.0-b16\n",
    "java.vm.vendor | Sun Microsystems Inc.\n",
    "java.vendor.url | http://java.sun.com/\n",
    "path.separator | :\n",
    "java.vm.name | Java HotSpot(TM) Server VM\n",
    "You need to find the length of the longest key before you can print the table.\n",
    "8. Write a function minmax(values: Array[Int]) that returns a pair containing the\n",
    "smallest and largest values in the array.\n",
    "9. Write a function lteqgt(values: Array[Int], v: Int) that returns a triple containing\n",
    "the counts of values less than v, equal to v, and greater than v.\n",
    "10. What happens when you zip together two strings, such as \"Hello\".zip(\"World\")?\n",
    "Come up with a plausible use case"
   ]
  },
  {
   "cell_type": "code",
   "execution_count": 2,
   "metadata": {
    "collapsed": false,
    "scrolled": true
   },
   "outputs": [
    {
     "data": {
      "text/plain": [
       "\u001b[36mgizmos\u001b[0m: \u001b[32mMap\u001b[0m[\u001b[32mString\u001b[0m, \u001b[32mInt\u001b[0m] = \u001b[33mMap\u001b[0m(\n",
       "  \u001b[32m\"cap_america\"\u001b[0m -> \u001b[32m20\u001b[0m,\n",
       "  \u001b[32m\"hulk_hands\"\u001b[0m -> \u001b[32m22\u001b[0m,\n",
       "  \u001b[32m\"princes_keychain\"\u001b[0m -> \u001b[32m3\u001b[0m\n",
       ")\n",
       "\u001b[36mgizmos_2\u001b[0m: \u001b[32mMap\u001b[0m[\u001b[32mString\u001b[0m, \u001b[32mInt\u001b[0m] = \u001b[33mMap\u001b[0m(\n",
       "  \u001b[32m\"cap_america\"\u001b[0m -> \u001b[32m10\u001b[0m,\n",
       "  \u001b[32m\"hulk_hands\"\u001b[0m -> \u001b[32m11\u001b[0m,\n",
       "  \u001b[32m\"princes_keychain\"\u001b[0m -> \u001b[32m1\u001b[0m\n",
       ")"
      ]
     },
     "metadata": {},
     "output_type": "display_data"
    }
   ],
   "source": [
    "var gizmos = Map(\"cap_america\" -> 20, \"hulk_hands\" -> 22, \"princes_keychain\" -> 3)\n",
    "var gizmos_2 = for ((k,v) <- gizmos) yield(k,v/2)"
   ]
  },
  {
   "cell_type": "code",
   "execution_count": 9,
   "metadata": {
    "collapsed": false
   },
   "outputs": [
    {
     "data": {
      "text/plain": [
       "\u001b[36mcurrentDirectory\u001b[0m: \u001b[32mString\u001b[0m = \u001b[32m\"\"\"\n",
       "C:\\Users\\abhij\n",
       "\"\"\"\u001b[0m\n",
       "defined \u001b[32mfunction \u001b[36mpwd\u001b[0m\n",
       "\u001b[36mres5_2\u001b[0m: \u001b[32mString\u001b[0m = \u001b[32m\"\"\"\n",
       "C:\\Users\\abhij\n",
       "\"\"\"\u001b[0m"
      ]
     },
     "metadata": {},
     "output_type": "display_data"
    }
   ],
   "source": [
    "val currentDirectory = new java.io.File(\".\").getCanonicalPath\n",
    "def pwd = System.getProperty(\"user.dir\")\n",
    "pwd"
   ]
  },
  {
   "cell_type": "code",
   "execution_count": 24,
   "metadata": {
    "collapsed": true
   },
   "outputs": [
    {
     "name": "stdout",
     "output_type": "stream",
     "text": [
      "Lets try something\n",
      "one\n",
      "two\n",
      "three\n",
      "two\n",
      "one\n",
      "one\n"
     ]
    },
    {
     "data": {
      "text/plain": [
       "\u001b[32mimport \u001b[36mscala.io.Source\u001b[0m\n",
       "\u001b[36mfilename\u001b[0m: \u001b[32mString\u001b[0m = \u001b[32m\"1.txt\"\u001b[0m\n",
       "\u001b[36mlines\u001b[0m: \u001b[32mList\u001b[0m[\u001b[32mString\u001b[0m] = \u001b[33mList\u001b[0m(\n",
       "  \u001b[32m\"Lets try something\"\u001b[0m,\n",
       "  \u001b[32m\"one\"\u001b[0m,\n",
       "  \u001b[32m\"two\"\u001b[0m,\n",
       "  \u001b[32m\"three\"\u001b[0m,\n",
       "  \u001b[32m\"two\"\u001b[0m,\n",
       "  \u001b[32m\"one\"\u001b[0m,\n",
       "  \u001b[32m\"one\"\u001b[0m\n",
       ")\n",
       "\u001b[36mlines1\u001b[0m: \u001b[32mArray\u001b[0m[\u001b[32mString\u001b[0m] = \u001b[33mArray\u001b[0m(\n",
       "  \u001b[32m\"Lets try something\"\u001b[0m,\n",
       "  \u001b[32m\"one\"\u001b[0m,\n",
       "  \u001b[32m\"two\"\u001b[0m,\n",
       "  \u001b[32m\"three\"\u001b[0m,\n",
       "  \u001b[32m\"two\"\u001b[0m,\n",
       "  \u001b[32m\"one\"\u001b[0m,\n",
       "  \u001b[32m\"one\"\u001b[0m\n",
       ")"
      ]
     },
     "metadata": {},
     "output_type": "display_data"
    }
   ],
   "source": [
    "//Read from file\n",
    "\n",
    "import scala.io.Source\n",
    "\n",
    "val filename = \"1.txt\"\n",
    "for (line <- Source.fromFile(filename).getLines) {\n",
    "  println(line)\n",
    "}\n",
    "\n",
    "val lines = Source.fromFile(\"1.txt\").getLines.toList\n",
    "val lines1 = Source.fromFile(\"1.txt\").getLines.toArray\n"
   ]
  },
  {
   "cell_type": "code",
   "execution_count": 23,
   "metadata": {
    "collapsed": false
   },
   "outputs": [
    {
     "data": {
      "text/plain": [
       "\u001b[36mres12\u001b[0m: \u001b[32mMap\u001b[0m[\u001b[32mString\u001b[0m, \u001b[32mInt\u001b[0m] = \u001b[33mMap\u001b[0m(\n",
       "  \u001b[32m\"Lets\"\u001b[0m -> \u001b[32m1\u001b[0m,\n",
       "  \u001b[32m\"try\"\u001b[0m -> \u001b[32m1\u001b[0m,\n",
       "  \u001b[32m\"three\"\u001b[0m -> \u001b[32m1\u001b[0m,\n",
       "  \u001b[32m\"two\"\u001b[0m -> \u001b[32m2\u001b[0m,\n",
       "  \u001b[32m\"something\"\u001b[0m -> \u001b[32m1\u001b[0m,\n",
       "  \u001b[32m\"one\"\u001b[0m -> \u001b[32m3\u001b[0m\n",
       ")"
      ]
     },
     "metadata": {},
     "output_type": "display_data"
    }
   ],
   "source": [
    "scala.io.Source.fromFile(\"1.txt\")\n",
    "  .getLines\n",
    "  .flatMap(_.split(\"\\\\W+\"))\n",
    "  .foldLeft(Map.empty[String, Int]){\n",
    "     (count, word) => count + (word -> (count.getOrElse(word, 0) + 1))\n",
    "  }"
   ]
  },
  {
   "cell_type": "code",
   "execution_count": 29,
   "metadata": {
    "collapsed": false
   },
   "outputs": [
    {
     "ename": "",
     "evalue": "",
     "output_type": "error",
     "traceback": [
      "Compilation Failed",
      "\u001b[31mMain.scala:91: missing arguments for method foldLeft in trait TraversableOnce;",
      "follow this method with `_' if you want to treat it as a partially applied function\r",
      "for ( i<- scala.io.Source.fromFile(\"1.txt\").getLines.flatMap(_.split(\"\\\\W+\")).foldLeft(Map.empty[String, Int]))\r",
      "                                                                                      ^\u001b[0m"
     ]
    }
   ],
   "source": [
    "for ( i<- scala.io.Source.fromFile(\"1.txt\").getLines.flatMap(_.split(\"\\\\W+\")).foldLeft(Map.empty[String, Int]))\n",
    "println(i)\n",
    "//  .flatMap(_.split(\"\\\\W+\"))\n"
   ]
  }
 ],
 "metadata": {
  "kernelspec": {
   "display_name": "Scala 2.11",
   "language": "scala211",
   "name": "scala211"
  },
  "language_info": {
   "codemirror_mode": "text/x-scala",
   "file_extension": ".scala",
   "mimetype": "text/x-scala",
   "name": "scala211",
   "pygments_lexer": "scala",
   "version": "2.11.6"
  }
 },
 "nbformat": 4,
 "nbformat_minor": 1
}
