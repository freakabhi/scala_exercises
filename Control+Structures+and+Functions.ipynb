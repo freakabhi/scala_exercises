{
 "cells": [
  {
   "cell_type": "code",
   "execution_count": 7,
   "metadata": {
    "collapsed": false
   },
   "outputs": [
    {
     "data": {
      "text/plain": [
       "\u001b[36mx\u001b[0m: \u001b[32mInt\u001b[0m = \u001b[32m10\u001b[0m\n",
       "\u001b[36mres5_1\u001b[0m: \u001b[32mString\u001b[0m = \u001b[32m\"above 10\"\u001b[0m\n",
       "\u001b[36ms\u001b[0m: \u001b[32mInt\u001b[0m = \u001b[32m10\u001b[0m\n",
       "\u001b[36mres5_4\u001b[0m: \u001b[32mAny\u001b[0m = 10"
      ]
     },
     "metadata": {},
     "output_type": "display_data"
    }
   ],
   "source": [
    "var x = 10;\n",
    "\n",
    "if (x > 7) \"above 10\" else \"below 10\"\n",
    "var s = if (x > 1 ) x else -x \n",
    "if (x > 0) s = x else s = -x\n",
    "\n",
    "if ( x > 0 ) x else \"negative\"\n"
   ]
  },
  {
   "cell_type": "code",
   "execution_count": 2,
   "metadata": {
    "collapsed": false
   },
   "outputs": [
    {
     "name": "stdout",
     "output_type": "stream",
     "text": [
      "(10, ,10)(9, ,90)(8, ,720)(7, ,5040)(6, ,30240)(5, ,151200)(4, ,604800)(3, ,1814400)(2, ,3628800)(1, ,3628800)"
     ]
    },
    {
     "data": {
      "text/plain": [
       "\u001b[36mn\u001b[0m: \u001b[32mInt\u001b[0m = \u001b[32m0\u001b[0m\n",
       "\u001b[36mr\u001b[0m: \u001b[32mInt\u001b[0m = \u001b[32m3628800\u001b[0m"
      ]
     },
     "metadata": {},
     "output_type": "display_data"
    }
   ],
   "source": [
    "var n = 10\n",
    "var r = 1\n",
    "\n",
    "while (n > 0) {\n",
    "r = r * n\n",
    "        print(n,\" \",r)\n",
    "n -= 1\n",
    "}"
   ]
  },
  {
   "cell_type": "code",
   "execution_count": 13,
   "metadata": {
    "collapsed": true
   },
   "outputs": [
    {
     "data": {
      "text/plain": [
       "\u001b[36mr\u001b[0m: \u001b[32mInt\u001b[0m = \u001b[32m36288000\u001b[0m"
      ]
     },
     "metadata": {},
     "output_type": "display_data"
    }
   ],
   "source": [
    "var r = 10\n",
    "for ( i <- 1 to 10)\n",
    "r = r * i"
   ]
  },
  {
   "cell_type": "code",
   "execution_count": 18,
   "metadata": {
    "collapsed": true
   },
   "outputs": [
    {
     "name": "stdout",
     "output_type": "stream",
     "text": [
      "H\n",
      "e\n",
      "l\n",
      "l\n",
      "o\n"
     ]
    },
    {
     "data": {
      "text/plain": [
       "\u001b[36mstr\u001b[0m: \u001b[32mString\u001b[0m = \u001b[32m\"Hello\"\u001b[0m\n",
       "\u001b[36msum\u001b[0m: \u001b[32mInt\u001b[0m = \u001b[32m0\u001b[0m\n",
       "\u001b[36mi\u001b[0m: \u001b[32mInt\u001b[0m = \u001b[32m0\u001b[0m"
      ]
     },
     "metadata": {},
     "output_type": "display_data"
    }
   ],
   "source": [
    "var str = \"Hello\"\n",
    "var sum = 0\n",
    "var i = 0\n",
    "for (i <- 0 until str.length)\n",
    "println(str(i))"
   ]
  },
  {
   "cell_type": "code",
   "execution_count": 21,
   "metadata": {
    "collapsed": false
   },
   "outputs": [
    {
     "name": "stdout",
     "output_type": "stream",
     "text": [
      "12 13 21 23 31 32 "
     ]
    },
    {
     "data": {
      "text/plain": []
     },
     "metadata": {},
     "output_type": "display_data"
    }
   ],
   "source": [
    "for (i <- 1 to 3; j <- 1 to 3 if i != j) print((10 * i + j) + \" \")"
   ]
  },
  {
   "cell_type": "code",
   "execution_count": 26,
   "metadata": {
    "collapsed": false
   },
   "outputs": [
    {
     "data": {
      "text/plain": [
       "\u001b[36mres22\u001b[0m: \u001b[32mcollection\u001b[0m.\u001b[32mimmutable\u001b[0m.\u001b[32mIndexedSeq\u001b[0m[\u001b[32mInt\u001b[0m] = \u001b[33mVector\u001b[0m(\n",
       "  \u001b[32m1\u001b[0m,\n",
       "  \u001b[32m2\u001b[0m,\n",
       "  \u001b[32m0\u001b[0m,\n",
       "  \u001b[32m1\u001b[0m,\n",
       "  \u001b[32m2\u001b[0m,\n",
       "  \u001b[32m0\u001b[0m,\n",
       "  \u001b[32m1\u001b[0m,\n",
       "  \u001b[32m2\u001b[0m,\n",
       "  \u001b[32m0\u001b[0m,\n",
       "  \u001b[32m1\u001b[0m\n",
       ")"
      ]
     },
     "metadata": {},
     "output_type": "display_data"
    }
   ],
   "source": [
    "for (i <- 1 to 10) yield i % 3"
   ]
  },
  {
   "cell_type": "code",
   "execution_count": 2,
   "metadata": {
    "collapsed": false
   },
   "outputs": [
    {
     "ename": "",
     "evalue": "",
     "output_type": "error",
     "traceback": [
      "incomplete"
     ]
    }
   ],
   "source": [
    "for { i <- 1 to 3\n",
    "from = 4 - i\n",
    "j <- from to 3 }"
   ]
  },
  {
   "cell_type": "code",
   "execution_count": 3,
   "metadata": {
    "collapsed": false
   },
   "outputs": [
    {
     "data": {
      "text/plain": [
       "defined \u001b[32mfunction \u001b[36mabs1\u001b[0m\n",
       "\u001b[36mres2_1\u001b[0m: \u001b[32mDouble\u001b[0m = \u001b[32m10.2\u001b[0m"
      ]
     },
     "metadata": {},
     "output_type": "display_data"
    }
   ],
   "source": [
    "def abs1(x:Double):Double = if (x > 0 ) x else -x \n",
    "abs1(-10.2)"
   ]
  },
  {
   "cell_type": "code",
   "execution_count": 30,
   "metadata": {
    "collapsed": true
   },
   "outputs": [
    {
     "data": {
      "text/plain": [
       "defined \u001b[32mfunction \u001b[36mfac\u001b[0m\n",
       "\u001b[36mres26_1\u001b[0m: \u001b[32mInt\u001b[0m = \u001b[32m24\u001b[0m"
      ]
     },
     "metadata": {},
     "output_type": "display_data"
    }
   ],
   "source": [
    "def fac(n: Int): Int = if (n <= 0) 1 else n * fac(n - 1)\n",
    "\n",
    "fac(4)"
   ]
  },
  {
   "cell_type": "code",
   "execution_count": 1,
   "metadata": {
    "collapsed": false
   },
   "outputs": [
    {
     "data": {
      "text/plain": [
       "defined \u001b[32mfunction \u001b[36mdecorate\u001b[0m\n",
       "\u001b[36mres0_1\u001b[0m: \u001b[32mString\u001b[0m = \u001b[32m\"<<<Hello>>>\"\u001b[0m"
      ]
     },
     "metadata": {},
     "output_type": "display_data"
    }
   ],
   "source": [
    "def decorate(str: String, left: String = \"[\", right: String = \"]\") =\n",
    "left + str + right\n",
    "decorate(left = \"<<<\", str = \"Hello\", right = \">>>\")"
   ]
  },
  {
   "cell_type": "code",
   "execution_count": 7,
   "metadata": {
    "collapsed": false
   },
   "outputs": [
    {
     "name": "stdout",
     "output_type": "stream",
     "text": [
      "----------\n",
      "|abhijeet|\n",
      "----------\n",
      "\n"
     ]
    },
    {
     "data": {
      "text/plain": [
       "defined \u001b[32mfunction \u001b[36mbox\u001b[0m"
      ]
     },
     "metadata": {},
     "output_type": "display_data"
    }
   ],
   "source": [
    "def box(s : String) { // Look carefully: no =\n",
    "val border = \"-\" * s.length + \"--\\n\"\n",
    "println(border + \"|\" + s + \"|\\n\" + border)\n",
    "}\n",
    "\n",
    "box(\"abhijeet\")\n"
   ]
  },
  {
   "cell_type": "code",
   "execution_count": 8,
   "metadata": {
    "collapsed": false
   },
   "outputs": [
    {
     "data": {
      "text/plain": [
       "\u001b[36mwords\u001b[0m: \u001b[32mString\u001b[0m = \u001b[32m<lazy>\u001b[0m"
      ]
     },
     "metadata": {},
     "output_type": "display_data"
    }
   ],
   "source": [
    "lazy val words = scala.io.Source.fromFile(\"/usr/share/dict/words\").mkString\n",
    "scala.io.Source.fromFile().mkString"
   ]
  },
  {
   "cell_type": "code",
   "execution_count": 41,
   "metadata": {
    "collapsed": false
   },
   "outputs": [
    {
     "ename": "",
     "evalue": "",
     "output_type": "error",
     "traceback": [
      "Compilation Failed",
      "\u001b[31mMain.scala:108: value toCharArray is not a member of Unit\r",
      "{}.toCharArray\r",
      "   ^\u001b[0m"
     ]
    }
   ],
   "source": [
    "{}.toCharArray"
   ]
  },
  {
   "cell_type": "markdown",
   "metadata": {},
   "source": [
    "### Exercises ( chapter 3 : Scala for impatient )\n",
    "1. The signum of a number is 1 if the number is positive, –1 if it is negative, and\n",
    "0 if it is zero. Write a function that computes this value.\n",
    "2. What is the value of an empty block expression {}? What is its type?\n",
    "3. Come up with one situation where the assignment x = y = 1 is valid in Scala.\n",
    "(Hint: Pick a suitable type for x.)\n",
    "4. Write a Scala equivalent for the Java loop\n",
    "for (int i = 10; i >= 0; i--) System.out.println(i);\n",
    "5. Write a procedure countdown(n: Int) that prints the numbers from n to 0.\n",
    "6. Write a for loop for computing the product of the Unicode codes of all letters\n",
    "in a string. For example, the product of the characters in \"Hello\" is 825152896.\n",
    "7. Solve the preceding exercise without writing a loop. (Hint: Look at the StringOps\n",
    "Scaladoc.)\n",
    "8. Write a function product(s : String) that computes the product, as described\n",
    "in the preceding"
   ]
  },
  {
   "cell_type": "code",
   "execution_count": 22,
   "metadata": {
    "collapsed": false,
    "scrolled": true
   },
   "outputs": [
    {
     "data": {
      "text/plain": []
     },
     "metadata": {},
     "output_type": "display_data"
    }
   ],
   "source": [
    "var x:Unit = 1\n",
    "var y:Unit = 1\n",
    "x = y = 1"
   ]
  },
  {
   "cell_type": "code",
   "execution_count": 34,
   "metadata": {
    "collapsed": false
   },
   "outputs": [
    {
     "name": "stdout",
     "output_type": "stream",
     "text": [
      "10\n",
      "9\n",
      "8\n",
      "7\n",
      "6\n",
      "5\n",
      "4\n",
      "3\n",
      "2\n",
      "1\n"
     ]
    },
    {
     "data": {
      "text/plain": []
     },
     "metadata": {},
     "output_type": "display_data"
    }
   ],
   "source": [
    "//for (int i = 10; i >= 0; i--) System.out.println(i);\n",
    "for (i <- 10 to 1 by -1) println(i)\n"
   ]
  },
  {
   "cell_type": "code",
   "execution_count": 38,
   "metadata": {
    "collapsed": false
   },
   "outputs": [
    {
     "name": "stdout",
     "output_type": "stream",
     "text": [
      "1\n"
     ]
    },
    {
     "data": {
      "text/plain": [
       "defined \u001b[32mfunction \u001b[36mcountdown\u001b[0m"
      ]
     },
     "metadata": {},
     "output_type": "display_data"
    }
   ],
   "source": [
    "def countdown(n:Int) {\n",
    "    for( i <- n to 1 by -1)\n",
    "    println(i)\n",
    "}\n",
    "\n",
    "countdown(1)"
   ]
  },
  {
   "cell_type": "code",
   "execution_count": 52,
   "metadata": {
    "collapsed": false
   },
   "outputs": [
    {
     "name": "stdout",
     "output_type": "stream",
     "text": [
      "9415087488"
     ]
    },
    {
     "data": {
      "text/plain": [
       "\u001b[36mx\u001b[0m: \u001b[32mLong\u001b[0m = \u001b[32m9415087488\u001b[0mL"
      ]
     },
     "metadata": {},
     "output_type": "display_data"
    }
   ],
   "source": [
    "var x: Long = 1\n",
    "for (c <- \"Hello\") x = x * c.toInt\n",
    "print(x)"
   ]
  }
 ],
 "metadata": {
  "anaconda-cloud": {},
  "kernelspec": {
   "display_name": "Scala 2.11",
   "language": "scala211",
   "name": "scala211"
  },
  "language_info": {
   "codemirror_mode": "text/x-scala",
   "file_extension": ".scala",
   "mimetype": "text/x-scala",
   "name": "scala211",
   "pygments_lexer": "scala",
   "version": "2.11.6"
  }
 },
 "nbformat": 4,
 "nbformat_minor": 1
}
