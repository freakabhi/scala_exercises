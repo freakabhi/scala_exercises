{
 "cells": [
  {
   "cell_type": "code",
   "execution_count": null,
   "metadata": {
    "collapsed": true
   },
   "outputs": [],
   "source": [
    "MAP \n",
    "\n",
    "You can construct a map as"
   ]
  },
  {
   "cell_type": "code",
   "execution_count": 14,
   "metadata": {
    "collapsed": false,
    "scrolled": false
   },
   "outputs": [
    {
     "ename": "",
     "evalue": "",
     "output_type": "error",
     "traceback": [
      "Compilation Failed",
      "\u001b[31mMain.scala:64: value update is not a member of scala.collection.immutable.Map[String,Int]\r",
      "scores(\"Alice\") = 20\r",
      "^\u001b[0m"
     ]
    }
   ],
   "source": [
    "val scores = Map(\"Alice\" -> 10, \"Bob\" -> 3, \"Cindy\" -> 8)  \n",
    "scores(\"Alice\")\n",
    "scores(\"Alice\") = 20"
   ]
  },
  {
   "cell_type": "code",
   "execution_count": 31,
   "metadata": {
    "collapsed": false,
    "scrolled": true
   },
   "outputs": [
    {
     "data": {
      "text/plain": [
       "\u001b[36mscores\u001b[0m: \u001b[32mcollection\u001b[0m.\u001b[32mmutable\u001b[0m.\u001b[32mMap\u001b[0m[\u001b[32mString\u001b[0m, \u001b[32mInt\u001b[0m] = \u001b[33mMap\u001b[0m(\n",
       "  \u001b[32m\"Bob\"\u001b[0m -> \u001b[32m3\u001b[0m,\n",
       "  \u001b[32m\"m2\"\u001b[0m -> \u001b[32m4\u001b[0m,\n",
       "  \u001b[32m\"n1\"\u001b[0m -> \u001b[32m10\u001b[0m,\n",
       "  \u001b[32m\"Alice\"\u001b[0m -> \u001b[32m10\u001b[0m,\n",
       "  \u001b[32m\"Cindy\"\u001b[0m -> \u001b[32m8\u001b[0m\n",
       ")\n",
       "\u001b[36mres20_1\u001b[0m: \u001b[32mcollection\u001b[0m.\u001b[32mmutable\u001b[0m.\u001b[32mMap\u001b[0m[\u001b[32mString\u001b[0m, \u001b[32mInt\u001b[0m] = \u001b[33mMap\u001b[0m(\n",
       "  \u001b[32m\"Bob\"\u001b[0m -> \u001b[32m3\u001b[0m,\n",
       "  \u001b[32m\"m2\"\u001b[0m -> \u001b[32m4\u001b[0m,\n",
       "  \u001b[32m\"n1\"\u001b[0m -> \u001b[32m10\u001b[0m,\n",
       "  \u001b[32m\"Alice\"\u001b[0m -> \u001b[32m10\u001b[0m,\n",
       "  \u001b[32m\"Cindy\"\u001b[0m -> \u001b[32m8\u001b[0m\n",
       ")"
      ]
     },
     "metadata": {},
     "output_type": "display_data"
    }
   ],
   "source": [
    "val scores = scala.collection.mutable.Map(\"Alice\" -> 10, \"Bob\" -> 3, \"Cindy\" -> 8)\n",
    "scores += (\"n1\" -> 3, \"m2\" -> 4)\n",
    "scores(\"n1\") = 10"
   ]
  },
  {
   "cell_type": "code",
   "execution_count": 39,
   "metadata": {
    "collapsed": false
   },
   "outputs": [
    {
     "name": "stdout",
     "output_type": "stream",
     "text": [
      "Bob\n",
      "m2\n",
      "n1\n",
      "Alice\n",
      "Cindy\n"
     ]
    },
    {
     "data": {
      "text/plain": [
       "\u001b[36mres25_0\u001b[0m: \u001b[32mcollection\u001b[0m.\u001b[32mSet\u001b[0m[\u001b[32mString\u001b[0m] = \u001b[33mSet\u001b[0m(\u001b[32m\"Bob\"\u001b[0m, \u001b[32m\"m2\"\u001b[0m, \u001b[32m\"n1\"\u001b[0m, \u001b[32m\"Alice\"\u001b[0m, \u001b[32m\"Cindy\"\u001b[0m)\n",
       "\u001b[36mres25_1\u001b[0m: \u001b[32mIterable\u001b[0m[\u001b[32mInt\u001b[0m] = \u001b[33mHashMap\u001b[0m(\u001b[32m3\u001b[0m, \u001b[32m4\u001b[0m, \u001b[32m10\u001b[0m, \u001b[32m10\u001b[0m, \u001b[32m8\u001b[0m)\n",
       "\u001b[36mres25_3\u001b[0m: \u001b[32mcollection\u001b[0m.\u001b[32mmutable\u001b[0m.\u001b[32mMap\u001b[0m[\u001b[32mInt\u001b[0m, \u001b[32mString\u001b[0m] = \u001b[33mMap\u001b[0m(\n",
       "  \u001b[32m8\u001b[0m -> \u001b[32m\"Cindy\"\u001b[0m,\n",
       "  \u001b[32m4\u001b[0m -> \u001b[32m\"m2\"\u001b[0m,\n",
       "  \u001b[32m10\u001b[0m -> \u001b[32m\"Alice\"\u001b[0m,\n",
       "  \u001b[32m3\u001b[0m -> \u001b[32m\"Bob\"\u001b[0m\n",
       ")"
      ]
     },
     "metadata": {},
     "output_type": "display_data"
    }
   ],
   "source": [
    "scores.keySet\n",
    "scores.values\n",
    "for ((k,v) <- scores ) println(k)\n",
    "for ((k,v) <- scores) yield(v,k)"
   ]
  },
  {
   "cell_type": "code",
   "execution_count": 23,
   "metadata": {
    "collapsed": false
   },
   "outputs": [
    {
     "data": {
      "text/plain": [
       "\u001b[36mscores2\u001b[0m: \u001b[32mcollection\u001b[0m.\u001b[32mmutable\u001b[0m.\u001b[32mMap\u001b[0m[\u001b[32mString\u001b[0m, \u001b[32mString\u001b[0m] = \u001b[33mMap\u001b[0m(\u001b[32m\"Smita\"\u001b[0m -> \u001b[32m\"Singh\"\u001b[0m, \u001b[32m\"Abhijeet\"\u001b[0m -> \u001b[32m\"Rajput\"\u001b[0m)\n",
       "\u001b[36mres14_1\u001b[0m: \u001b[32mAny\u001b[0m = 2\n",
       "\u001b[36mres14_2\u001b[0m: \u001b[32mAny\u001b[0m = 0"
      ]
     },
     "metadata": {},
     "output_type": "display_data"
    }
   ],
   "source": [
    "val scores2 = scala.collection.mutable.Map((\"Abhijeet\" ,\"Rajput\"),(\"Smita\" ,\"Singh\"))\n",
    "scores2.getOrElse(\"Abhijeet1\",2)\n",
    "\n",
    "if (scores2.contains(\"Abhijeet\")) scores2.get(\"Abhijeet\") else 0"
   ]
  },
  {
   "cell_type": "markdown",
   "metadata": {},
   "source": [
    "**Sorted Maps**\n",
    "\n",
    "When working with a map, you need to choose an implementation—a hash table\n",
    "or a balanced tree. By default, Scala gives you a hash table. You might want a\n",
    "tree map if you don’t have a good hash function for the keys, or if you need to\n",
    "visit the keys in sorted order."
   ]
  },
  {
   "cell_type": "code",
   "execution_count": 40,
   "metadata": {
    "collapsed": false
   },
   "outputs": [
    {
     "data": {
      "text/plain": [
       "\u001b[36mmap_vals\u001b[0m: \u001b[32mcollection\u001b[0m.\u001b[32mimmutable\u001b[0m.\u001b[32mSortedMap\u001b[0m[\u001b[32mString\u001b[0m, \u001b[32mInt\u001b[0m] = \u001b[33mMap\u001b[0m(\u001b[32m\"Ab\"\u001b[0m -> \u001b[32m10\u001b[0m, \u001b[32m\"nw\"\u001b[0m -> \u001b[32m4\u001b[0m, \u001b[32m\"sm\"\u001b[0m -> \u001b[32m2\u001b[0m)"
      ]
     },
     "metadata": {},
     "output_type": "display_data"
    }
   ],
   "source": [
    "val map_vals = scala.collection.immutable.SortedMap(\"Ab\" -> 10,\"sm\" -> 2, \"nw\" -> 4)"
   ]
  },
  {
   "cell_type": "markdown",
   "metadata": {},
   "source": [
    "### Tuples\n",
    "\n",
    "Maps are collections of key/value pairs. Pairs are the simplest case of tuples—\n",
    "aggregates of values of different types.\n",
    "A tuple value is formed by enclosing individual values in parentheses."
   ]
  },
  {
   "cell_type": "code",
   "execution_count": 49,
   "metadata": {
    "collapsed": false
   },
   "outputs": [
    {
     "data": {
      "text/plain": [
       "\u001b[36mres32_0\u001b[0m: (\u001b[32mInt\u001b[0m, \u001b[32mDouble\u001b[0m, \u001b[32mString\u001b[0m) = \u001b[33m\u001b[0m(\u001b[32m1\u001b[0m, \u001b[32m3.14\u001b[0m, \u001b[32m\"Abhijeet\"\u001b[0m)\n",
       "\u001b[36mt\u001b[0m: (\u001b[32mInt\u001b[0m, \u001b[32mDouble\u001b[0m, \u001b[32mString\u001b[0m) = \u001b[33m\u001b[0m(\u001b[32m1\u001b[0m, \u001b[32m2.14\u001b[0m, \u001b[32m\"fred\"\u001b[0m)\n",
       "\u001b[36mres32_2\u001b[0m: \u001b[32mDouble\u001b[0m = \u001b[32m2.14\u001b[0m\n",
       "\u001b[36mfirst\u001b[0m: \u001b[32mInt\u001b[0m = \u001b[32m1\u001b[0m\n",
       "\u001b[36msecond\u001b[0m: \u001b[32mDouble\u001b[0m = \u001b[32m2.14\u001b[0m"
      ]
     },
     "metadata": {},
     "output_type": "display_data"
    }
   ],
   "source": [
    "(1,3.14,\"Abhijeet\")\n",
    "val t = (1,2.14,\"fred\")\n",
    "t._2\n",
    "//val (first, second, third) = t\n",
    "val (first,second,_) = t"
   ]
  },
  {
   "cell_type": "code",
   "execution_count": 51,
   "metadata": {
    "collapsed": false
   },
   "outputs": [
    {
     "name": "stdout",
     "output_type": "stream",
     "text": [
      "<\n",
      "-\n",
      ">\n"
     ]
    },
    {
     "data": {
      "text/plain": [
       "\u001b[36ma\u001b[0m: \u001b[32mArray\u001b[0m[\u001b[32mString\u001b[0m] = \u001b[33mArray\u001b[0m(\u001b[32m\"<\"\u001b[0m, \u001b[32m\"-\"\u001b[0m, \u001b[32m\">\"\u001b[0m)\n",
       "\u001b[36mb\u001b[0m: \u001b[32mArray\u001b[0m[\u001b[32mInt\u001b[0m] = \u001b[33mArray\u001b[0m(\u001b[32m1\u001b[0m, \u001b[32m2\u001b[0m, \u001b[32m4\u001b[0m)\n",
       "\u001b[36mpairs\u001b[0m: \u001b[32mArray\u001b[0m[(\u001b[32mString\u001b[0m, \u001b[32mInt\u001b[0m)] = \u001b[33mArray\u001b[0m(\n",
       "  \u001b[33m\u001b[0m(\u001b[32m\"<\"\u001b[0m, \u001b[32m1\u001b[0m),\n",
       "  \u001b[33m\u001b[0m(\u001b[32m\"-\"\u001b[0m, \u001b[32m2\u001b[0m),\n",
       "  \u001b[33m\u001b[0m(\u001b[32m\">\"\u001b[0m, \u001b[32m4\u001b[0m)\n",
       ")"
      ]
     },
     "metadata": {},
     "output_type": "display_data"
    }
   ],
   "source": [
    "var a = Array(\"<\",\"-\",\">\")\n",
    "var b = Array(1,2,4)\n",
    "val pairs = a.zip(b)\n",
    "\n",
    "for ((k,v) <- pairs) println(k)"
   ]
  }
 ],
 "metadata": {
  "kernelspec": {
   "display_name": "Scala 2.11",
   "language": "scala211",
   "name": "scala211"
  },
  "language_info": {
   "codemirror_mode": "text/x-scala",
   "file_extension": ".scala",
   "mimetype": "text/x-scala",
   "name": "scala211",
   "pygments_lexer": "scala",
   "version": "2.11.6"
  }
 },
 "nbformat": 4,
 "nbformat_minor": 1
}
